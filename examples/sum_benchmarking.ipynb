{
 "cells": [
  {
   "cell_type": "code",
   "execution_count": 1,
   "metadata": {
    "collapsed": false,
    "deletable": true,
    "editable": true
   },
   "outputs": [
    {
     "data": {
      "text/plain": [
       ":sns"
      ]
     },
     "execution_count": 1,
     "metadata": {},
     "output_type": "execute_result"
    }
   ],
   "source": [
    "require 'matplotlib/iruby'\n",
    "Matplotlib::IRuby.activate\n",
    "\n",
    "require 'pycall/import'\n",
    "include PyCall::Import\n",
    "\n",
    "pyimport :pandas, as: :pd\n",
    "pyimport :seaborn, as: :sns"
   ]
  },
  {
   "cell_type": "code",
   "execution_count": 2,
   "metadata": {
    "collapsed": false,
    "deletable": true,
    "editable": true
   },
   "outputs": [
    {
     "data": {
      "text/plain": [
       "true"
      ]
     },
     "execution_count": 2,
     "metadata": {},
     "output_type": "execute_result"
    }
   ],
   "source": [
    "require 'benchmark'"
   ]
  },
  {
   "cell_type": "code",
   "execution_count": 3,
   "metadata": {
    "collapsed": false,
    "deletable": true,
    "editable": true
   },
   "outputs": [
    {
     "data": {
      "text/plain": [
       "[]"
      ]
     },
     "execution_count": 3,
     "metadata": {},
     "output_type": "execute_result"
    }
   ],
   "source": [
    "n = 100_000\n",
    "trials = 100\n",
    "array = Array.new(n) { rand }\n",
    "enum = array.each\n",
    "method = []\n",
    "runtime = []"
   ]
  },
  {
   "cell_type": "code",
   "execution_count": 4,
   "metadata": {
    "collapsed": false,
    "deletable": true,
    "editable": true
   },
   "outputs": [
    {
     "data": {
      "text/plain": [
       "100"
      ]
     },
     "execution_count": 4,
     "metadata": {},
     "output_type": "execute_result"
    }
   ],
   "source": [
    "# Array#sum\n",
    "trials.times do\n",
    "  method << 'array.sum'\n",
    "  runtime << Benchmark.realtime { array.sum }\n",
    "end"
   ]
  },
  {
   "cell_type": "code",
   "execution_count": 5,
   "metadata": {
    "collapsed": false,
    "deletable": true,
    "editable": true
   },
   "outputs": [
    {
     "data": {
      "text/plain": [
       "100"
      ]
     },
     "execution_count": 5,
     "metadata": {},
     "output_type": "execute_result"
    }
   ],
   "source": [
    "# Array#sum\n",
    "trials.times do\n",
    "  method << 'enum.sum'\n",
    "  runtime << Benchmark.realtime { enum.sum }\n",
    "end"
   ]
  },
  {
   "cell_type": "code",
   "execution_count": 6,
   "metadata": {
    "collapsed": false,
    "deletable": true,
    "editable": true
   },
   "outputs": [
    {
     "data": {
      "text/plain": [
       "100"
      ]
     },
     "execution_count": 6,
     "metadata": {},
     "output_type": "execute_result"
    }
   ],
   "source": [
    "# Array#inject\n",
    "trials.times do\n",
    "  method << 'array.inject'\n",
    "  runtime << Benchmark.realtime { array.inject :+ }\n",
    "end"
   ]
  },
  {
   "cell_type": "code",
   "execution_count": 7,
   "metadata": {
    "collapsed": false,
    "deletable": true,
    "editable": true
   },
   "outputs": [
    {
     "data": {
      "text/plain": [
       "100"
      ]
     },
     "execution_count": 7,
     "metadata": {},
     "output_type": "execute_result"
    }
   ],
   "source": [
    "# Enumerable#inject\n",
    "trials.times do\n",
    "  method << 'enum.inject'\n",
    "  runtime << Benchmark.realtime { enum.inject :+ }\n",
    "end"
   ]
  },
  {
   "cell_type": "code",
   "execution_count": 8,
   "metadata": {
    "collapsed": false,
    "deletable": true,
    "editable": true
   },
   "outputs": [
    {
     "data": {
      "text/plain": [
       "100"
      ]
     },
     "execution_count": 8,
     "metadata": {},
     "output_type": "execute_result"
    }
   ],
   "source": [
    "# while\n",
    "def while_sum(array)\n",
    "  sum, i, cnt = 0, 0, array.length\n",
    "  while i < cnt\n",
    "    sum += array[i]\n",
    "    i += 1\n",
    "  end\n",
    "  sum\n",
    "end\n",
    "\n",
    "trials.times do\n",
    "  method << 'while'\n",
    "  runtime << Benchmark.realtime { while_sum(array) }\n",
    "end"
   ]
  },
  {
   "cell_type": "code",
   "execution_count": 9,
   "metadata": {
    "collapsed": false,
    "deletable": true,
    "editable": true
   },
   "outputs": [
    {
     "data": {
      "text/plain": [
       "                       runtime\n",
       "method                        \n",
       "array.inject count  100.000000\n",
       "             mean     0.003378\n",
       "             std      0.000597\n",
       "             min      0.002945\n",
       "             25%      0.003054\n",
       "             50%      0.003156\n",
       "             75%      0.003540\n",
       "             max      0.007732\n",
       "array.sum    count  100.000000\n",
       "             mean     0.000686\n",
       "             std      0.000185\n",
       "             min      0.000502\n",
       "             25%      0.000557\n",
       "             50%      0.000644\n",
       "             75%      0.000763\n",
       "             max      0.001398\n",
       "enum.inject  count  100.000000\n",
       "             mean     0.005062\n",
       "             std      0.001402\n",
       "             min      0.004181\n",
       "             25%      0.004265\n",
       "             50%      0.004588\n",
       "             75%      0.005379\n",
       "             max      0.012665\n",
       "enum.sum     count  100.000000\n",
       "             mean     0.001550\n",
       "             std      0.000634\n",
       "             min      0.001276\n",
       "             25%      0.001300\n",
       "             50%      0.001389\n",
       "             75%      0.001546\n",
       "             max      0.006696\n",
       "while        count  100.000000\n",
       "             mean     0.003454\n",
       "             std      0.000500\n",
       "             min      0.003139\n",
       "             25%      0.003196\n",
       "             50%      0.003250\n",
       "             75%      0.003606\n",
       "             max      0.006527"
      ]
     },
     "execution_count": 9,
     "metadata": {},
     "output_type": "execute_result"
    }
   ],
   "source": [
    "df = pd.DataFrame.({method: method, runtime: runtime}, {})  # The last empty hash is for empty kwargs\n",
    "df.groupby.('method').describe.()"
   ]
  },
  {
   "cell_type": "code",
   "execution_count": 10,
   "metadata": {
    "collapsed": false,
    "deletable": true,
    "editable": true
   },
   "outputs": [
    {
     "data": {
      "image/png": "[encoded data removed]",
      "text/plain": [
       "<matplotlib.figure.Figure object at 0x7f0d5922a400>"
      ]
     },
     "execution_count": 10,
     "metadata": {},
     "output_type": "execute_result"
    },
    {
     "data": {
      "text/plain": [
       "<matplotlib.text.Text object at 0x7f0d59222828>"
      ]
     },
     "execution_count": 10,
     "metadata": {},
     "output_type": "execute_result"
    }
   ],
   "source": [
    "sns.barplot.(x: 'method', y: 'runtime', data: df, errwidth: 2.5, capsize: 0.04)\n",
    "plt = Matplotlib::Pyplot\n",
    "plt.title(\"Array and Enumerable summation benchmark (#{trials} trials)\")\n",
    "plt.xlabel(\"Summation method\")\n",
    "plt.ylabel(\"Average runtime [sec]\")"
   ]
  },
  {
   "cell_type": "code",
   "execution_count": null,
   "metadata": {
    "collapsed": true,
    "deletable": true,
    "editable": true
   },
   "outputs": [],
   "source": []
  }
 ],
 "metadata": {
  "kernelspec": {
   "display_name": "Ruby 2.4.0",
   "language": "ruby",
   "name": "ruby"
  },
  "language_info": {
   "file_extension": ".rb",
   "mimetype": "application/x-ruby",
   "name": "ruby",
   "version": "2.4.0"
  }
 },
 "nbformat": 4,
 "nbformat_minor": 2
}
